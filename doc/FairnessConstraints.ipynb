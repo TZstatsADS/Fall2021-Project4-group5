{
 "cells": [
  {
   "cell_type": "markdown",
   "metadata": {
    "id": "Tz6mX1djuyGe"
   },
   "source": [
    "# Maximize Fairness Under Accuraacy constraints - Logistic Regression"
   ]
  },
  {
   "cell_type": "markdown",
   "metadata": {
    "id": "Gup6jQ35u6DY"
   },
   "source": [
    "## 1) Preprocess Bank marketing Data"
   ]
  },
  {
   "cell_type": "code",
   "execution_count": 95,
   "metadata": {
    "id": "2Xv1_tUoXICI"
   },
   "outputs": [],
   "source": [
    "#Load data \n",
    "import pandas as pd \n",
    "from sklearn.linear_model import LogisticRegression\n",
    "from sklearn.utils import shuffle\n",
    "import numpy as np\n",
    "from sklearn.metrics import log_loss\n",
    "from scipy import optimize\n",
    "\n",
    "fp = \"data/bank-full.csv\"\n",
    "bank_df = pd.read_csv(fp, delimiter=\";\")"
   ]
  },
  {
   "cell_type": "code",
   "execution_count": 116,
   "metadata": {
    "id": "Wf9VkU8raM7B"
   },
   "outputs": [],
   "source": [
    "\n",
    "def process_data(bank_df): \n",
    "  \n",
    "  y_actual = bank_df[\"y\"].apply(lambda x: 1 if x == \"yes\" else -1)\n",
    "  age = bank_df[\"age\"].apply(lambda x: 1 if 25<= x <= 60 else 0)\n",
    "  bank_df = bank_df.drop(columns = [\"age\", \"y\", \"day\", \"month\"])\n",
    "\n",
    "  #Have more than two categories - one hot encode\n",
    "  columns = ['job', 'marital', 'education','contact','poutcome']\n",
    "  for c in columns: \n",
    "    dummies = pd.get_dummies(bank_df[c])\n",
    "    bank_df = pd.merge(bank_df, dummies, left_index = True, right_index = True)\n",
    "    bank_df = bank_df.drop(columns = [c])\n",
    "\n",
    "  #Binary variables, apply 1/0 for yes/no\n",
    "  binary_vars = ['default', 'housing', 'loan']\n",
    "  for b in binary_vars: \n",
    "    bank_df[b] = bank_df[b].apply(lambda x: 1 if x ==\"yes\" else 0 )\n",
    "\n",
    "  bank_df, y_actual, age = shuffle(bank_df, y_actual, age, random_state=0)\n",
    "\n",
    "  return bank_df.to_numpy(), y_actual.to_numpy(), age.to_numpy()\n",
    "\n",
    "def accuracy(w, x, y):\n",
    "  shape = x.shape[1]\n",
    "  pred = np.dot(x, w.reshape(shape,1))\n",
    "  pred_prob = 1/(1+ 2.718**(-pred))\n",
    "  \n",
    "  pred_prob[pred_prob>=0.5] = 1\n",
    "  pred_prob[pred_prob<0.5] = -1\n",
    "\n",
    "  matches = np.where(pred_prob== y.reshape(pred_prob.shape))\n",
    "\n",
    "  return (matches[0].shape[0]/pred_prob.shape[0]), pred_prob\n",
    "\n",
    "#Determine p% rule ratio - number of protected in the positive class: not protected in positive class\n",
    "def p_rule(age_var, predicted_y):\n",
    "  \n",
    "  not_protected = np.where(age_var != 1)[0]\n",
    "  protected = np.where(age_var == 1)[0] \n",
    "\n",
    "  protected_preds = np.where(predicted_y[protected] == 1)\n",
    "  nonpro_preds = np.where(predicted_y[not_protected] == 1)\n",
    "  protected_perc = (protected_preds[0].shape[0]/protected.shape[0]) \n",
    "  nonpro_perc = (nonpro_preds[0].shape[0]/not_protected.shape[0])\n",
    "\n",
    "  perc_ratio = protected_perc/nonpro_perc\n",
    "\n",
    "  return perc_ratio, protected_perc, nonpro_perc"
   ]
  },
  {
   "cell_type": "code",
   "execution_count": 110,
   "metadata": {
    "id": "w0sVx6oZaXFO"
   },
   "outputs": [],
   "source": [
    "X, y, age = process_data(bank_df)\n",
    "\n",
    "#X,y, and age shuffled already, split into train and test tests\n",
    "train_index = int(len(X)*.80)\n",
    "x_train, y_train, age_train = X[:train_index], y[:train_index], age[:train_index]\n",
    "x_test, y_test, age_test = X[train_index:], y[train_index:], age[train_index:]"
   ]
  },
  {
   "cell_type": "code",
   "execution_count": 111,
   "metadata": {
    "colab": {
     "base_uri": "https://localhost:8080/"
    },
    "id": "d4IEXDvMXyhO",
    "outputId": "80eb3847-2486-4995-c42c-e6eac2e490b5"
   },
   "outputs": [
    {
     "name": "stderr",
     "output_type": "stream",
     "text": [
      "/Users/kerry.cook@ibm.com/anaconda3/lib/python3.6/site-packages/sklearn/linear_model/logistic.py:433: FutureWarning: Default solver will be changed to 'lbfgs' in 0.22. Specify a solver to silence this warning.\n",
      "  FutureWarning)\n"
     ]
    },
    {
     "name": "stdout",
     "output_type": "stream",
     "text": [
      "Logistic Regression Accuracy: 0.9016919163994249\n",
      "P-rule value: (0.27308801279219336, 0.05042673224359902, 0.18465377417342482)\n"
     ]
    }
   ],
   "source": [
    "#Get optimal coefficients by just training normal LR model \n",
    "clf = LogisticRegression(random_state=0).fit(x_train, y_train)\n",
    "print(f\"Logistic Regression Accuracy: {clf.score(x_test, y_test)}\")\n",
    "print(f\"P-rule value: {p_rule(age_train, clf.predict(x_train))}\")\n",
    "\n",
    "coeff = clf.coef_\n",
    "intercept = clf.intercept_\n",
    "optimal_loss = log_loss(y_train, clf.predict_proba(x_train))\n"
   ]
  },
  {
   "cell_type": "code",
   "execution_count": 112,
   "metadata": {
    "id": "jj28XDFV6c3w"
   },
   "outputs": [],
   "source": [
    "#Reshape arrays to calcualte dist from decision boundary \n",
    "ind = x_train.shape[0]\n",
    "ind_test = x_test.shape[0] \n",
    "\n",
    "lift = np.ones(ind).reshape(ind, 1)\n",
    "lift_test = np.ones(ind_test).reshape(ind_test, 1)\n",
    "x_test =  np.concatenate((x_test, lift_test), axis = 1)\n",
    "x_train = np.concatenate((x_train, lift), axis = 1)\n",
    "\n",
    "optimal_weights_bank = np.concatenate((coeff, intercept.reshape(1,1)), axis = 1)"
   ]
  },
  {
   "cell_type": "code",
   "execution_count": 101,
   "metadata": {
    "id": "obRqt4CjqMqg"
   },
   "outputs": [],
   "source": [
    "#Create Constraints for optimization problem \n",
    "def logisitc_loss(weights, X, y):\n",
    "  \n",
    "  shape = x_train.shape[1]\n",
    "  dp = np.dot(X, weights.reshape(shape,1))\n",
    "  dp = dp.astype(np.float64)\n",
    "  pred_prob = 1/(1+ 2.718**(-dp))\n",
    "\n",
    "  pred_classes = np.concatenate((1-pred_prob, pred_prob), axis = 1)\n",
    "  loss = log_loss(y, pred_classes)\n",
    "\n",
    "  return loss "
   ]
  },
  {
   "cell_type": "code",
   "execution_count": 102,
   "metadata": {
    "id": "jdpsTHsUCC8Y"
   },
   "outputs": [],
   "source": [
    "def constraint1(weights, x, y, gamma):\n",
    "  \n",
    "  upd_loss = logisitc_loss(weights, x, y)\n",
    "\n",
    "  return (1+gamma)*optimal_loss - upd_loss #Accuracy constraint function from paper "
   ]
  },
  {
   "cell_type": "code",
   "execution_count": 103,
   "metadata": {
    "id": "7nXHGI68DGgN"
   },
   "outputs": [],
   "source": [
    "#Optmization function to minimize - from paper \n",
    "def opt_function(w, x, protected_var):\n",
    "  \n",
    "  dist_bound = np.dot(w, x_train.T)\n",
    "  protected_cov = (protected_var - np.mean(protected_var)) * dist_bound\n",
    "  \n",
    "  return float(abs(sum(protected_cov))) / float(x_train.shape[0])"
   ]
  },
  {
   "cell_type": "code",
   "execution_count": 118,
   "metadata": {
    "colab": {
     "base_uri": "https://localhost:8080/"
    },
    "id": "onDO_MQqkVeC",
    "outputId": "7db1b0aa-b00f-4bde-fe09-f47aa6ab60dc"
   },
   "outputs": [],
   "source": [
    "#https://towardsdatascience.com/optimization-with-scipy-and-application-ideas-to-machine-learning-81d39c7938b8\n",
    "def run_optimization(x_train, y_train, x_test, y_test, protected_attr, protected_attr_test, gamma, optimal_weights):\n",
    "    constraints = []\n",
    "    cons = {'type':'ineq', 'fun': constraint1, 'args': (x_train, y_train, gamma)}\n",
    "\n",
    "    result = optimize.minimize(opt_function,\n",
    "                               x0=optimal_weights,\n",
    "                               args= (x_train,protected_attr),\n",
    "                               method='SLSQP',\n",
    "                               constraints=cons,\n",
    "                               options={'maxiter':10000})\n",
    "    \n",
    "    accuracy_train, pred_y = accuracy(result.x, x_train, y_train)\n",
    "    p_rule_val, prot_perc, nonp_perc = p_rule(protected_attr, pred_y)\n",
    "    \n",
    "    accuracy_test, y_pred_test = accuracy(result.x, x_test, y_test)\n",
    "    p_rule_val_test, prot_perc_test, nonp_perc_test = p_rule(protected_attr_test, y_pred_test)\n",
    "    \n",
    "    print(f\"Accuracy for gamma {gamma}: {accuracy_train}\")\n",
    "    print(f\"P Rule Value: {p_rule_val}\")\n",
    "    print (f\"Perc of protected vs non protected in positive class: {prot_perc}: {nonp_perc}\")\n",
    "    \n",
    "    return accuracy_train,pred_y, p_rule_val, prot_perc, nonp_perc, accuracy_test, p_rule_val_test, prot_perc_test, nonp_perc_test \n"
   ]
  },
  {
   "cell_type": "code",
   "execution_count": 119,
   "metadata": {
    "colab": {
     "base_uri": "https://localhost:8080/"
    },
    "id": "S1_aikyiPFCm",
    "outputId": "8f176aa4-8ca3-4362-c9f7-58ab95242061"
   },
   "outputs": [],
   "source": [
    "def run_mult_optmizations(x_train, y_train, x_test,y_test, protected_attr, protected_attr_test, optimal_weights, gamma_list):\n",
    "    \n",
    "    accuracy_list, p_val_list, prot_perc_list, nonpro_perc_list = [],[],[],[]\n",
    "    accuracy_list_test, p_val_list_test, prot_perc_list_test, nonpro_perc_list_test = [],[],[],[]\n",
    "    for g in gamma_list: \n",
    "        (accuracy_train, pred_y, p_rule_val, prot_perc, nonp_perc,\n",
    "        accuracy_test, p_rule_val_test, prot_perc_test, nonp_perc_test) = run_optimization(x_train, \n",
    "                                                                                          y_train,\n",
    "                                                                                          x_test,\n",
    "                                                                                          y_test,\n",
    "                                                                                          protected_attr, \n",
    "                                                                                          protected_attr_test,\n",
    "                                                                                          g, \n",
    "                                                                                          optimal_weights)\n",
    "        accuracy_list.append(accuracy_train)\n",
    "        p_val_list.append(p_rule_val)\n",
    "        prot_perc_list.append(prot_perc)\n",
    "        nonpro_perc_list.append(nonp_perc)\n",
    "        \n",
    "        accuracy_list_test.append(accuracy_test)\n",
    "        p_val_list_test.append(p_rule_val_test)\n",
    "        prot_perc_list_test.append(prot_perc_test)\n",
    "        nonpro_perc_list_test.append(nonp_perc_test)\n",
    "        \n",
    "    return accuracy_list, p_val_list, prot_perc_list, nonpro_perc_list,accuracy_list_test, p_val_list_test, prot_perc_list_test, nonpro_perc_list_test\n",
    "        \n",
    "    "
   ]
  },
  {
   "cell_type": "code",
   "execution_count": 120,
   "metadata": {},
   "outputs": [
    {
     "name": "stderr",
     "output_type": "stream",
     "text": [
      "/Users/kerry.cook@ibm.com/anaconda3/lib/python3.6/site-packages/ipykernel_launcher.py:7: RuntimeWarning: overflow encountered in power\n",
      "  import sys\n",
      "/Users/kerry.cook@ibm.com/anaconda3/lib/python3.6/site-packages/ipykernel_launcher.py:7: RuntimeWarning: overflow encountered in power\n",
      "  import sys\n",
      "/Users/kerry.cook@ibm.com/anaconda3/lib/python3.6/site-packages/ipykernel_launcher.py:7: RuntimeWarning: overflow encountered in power\n",
      "  import sys\n",
      "/Users/kerry.cook@ibm.com/anaconda3/lib/python3.6/site-packages/ipykernel_launcher.py:7: RuntimeWarning: overflow encountered in power\n",
      "  import sys\n",
      "/Users/kerry.cook@ibm.com/anaconda3/lib/python3.6/site-packages/ipykernel_launcher.py:7: RuntimeWarning: overflow encountered in power\n",
      "  import sys\n",
      "/Users/kerry.cook@ibm.com/anaconda3/lib/python3.6/site-packages/ipykernel_launcher.py:7: RuntimeWarning: overflow encountered in power\n",
      "  import sys\n"
     ]
    },
    {
     "name": "stdout",
     "output_type": "stream",
     "text": [
      "Accuracy for gamma 0.1: 0.8956536164565362\n",
      "P Rule Value: 0.7409437561184018\n",
      "Perc of protected vs non protected in positive class: 0.0397511934037321: 0.053649407361197755\n"
     ]
    },
    {
     "name": "stderr",
     "output_type": "stream",
     "text": [
      "/Users/kerry.cook@ibm.com/anaconda3/lib/python3.6/site-packages/ipykernel_launcher.py:7: RuntimeWarning: overflow encountered in power\n",
      "  import sys\n",
      "/Users/kerry.cook@ibm.com/anaconda3/lib/python3.6/site-packages/ipykernel_launcher.py:7: RuntimeWarning: overflow encountered in power\n",
      "  import sys\n",
      "/Users/kerry.cook@ibm.com/anaconda3/lib/python3.6/site-packages/ipykernel_launcher.py:7: RuntimeWarning: overflow encountered in power\n",
      "  import sys\n",
      "/Users/kerry.cook@ibm.com/anaconda3/lib/python3.6/site-packages/ipykernel_launcher.py:7: RuntimeWarning: overflow encountered in power\n",
      "  import sys\n",
      "/Users/kerry.cook@ibm.com/anaconda3/lib/python3.6/site-packages/ipykernel_launcher.py:7: RuntimeWarning: overflow encountered in power\n",
      "  import sys\n",
      "/Users/kerry.cook@ibm.com/anaconda3/lib/python3.6/site-packages/ipykernel_launcher.py:7: RuntimeWarning: overflow encountered in power\n",
      "  import sys\n"
     ]
    },
    {
     "name": "stdout",
     "output_type": "stream",
     "text": [
      "Accuracy for gamma 0.15: 0.8932205264322053\n",
      "P Rule Value: 0.8106070823901895\n",
      "Perc of protected vs non protected in positive class: 0.035903370461449445: 0.044291952588895823\n"
     ]
    },
    {
     "name": "stderr",
     "output_type": "stream",
     "text": [
      "/Users/kerry.cook@ibm.com/anaconda3/lib/python3.6/site-packages/ipykernel_launcher.py:7: RuntimeWarning: overflow encountered in power\n",
      "  import sys\n",
      "/Users/kerry.cook@ibm.com/anaconda3/lib/python3.6/site-packages/ipykernel_launcher.py:7: RuntimeWarning: overflow encountered in power\n",
      "  import sys\n",
      "/Users/kerry.cook@ibm.com/anaconda3/lib/python3.6/site-packages/ipykernel_launcher.py:7: RuntimeWarning: overflow encountered in power\n",
      "  import sys\n",
      "/Users/kerry.cook@ibm.com/anaconda3/lib/python3.6/site-packages/ipykernel_launcher.py:7: RuntimeWarning: overflow encountered in power\n",
      "  import sys\n",
      "/Users/kerry.cook@ibm.com/anaconda3/lib/python3.6/site-packages/ipykernel_launcher.py:7: RuntimeWarning: overflow encountered in power\n",
      "  import sys\n",
      "/Users/kerry.cook@ibm.com/anaconda3/lib/python3.6/site-packages/ipykernel_launcher.py:7: RuntimeWarning: overflow encountered in power\n",
      "  import sys\n",
      "/Users/kerry.cook@ibm.com/anaconda3/lib/python3.6/site-packages/ipykernel_launcher.py:7: RuntimeWarning: overflow encountered in power\n",
      "  import sys\n"
     ]
    },
    {
     "name": "stdout",
     "output_type": "stream",
     "text": [
      "Accuracy for gamma 0.2: 0.8903174076531741\n",
      "P Rule Value: 0.8579632576305513\n",
      "Perc of protected vs non protected in positive class: 0.024620280630695792: 0.028696194635059263\n"
     ]
    }
   ],
   "source": [
    "acc, p_val_list, protected, nonpro, acc_test, p_val_list_test, protected_test, nonpro_test = run_mult_optmizations(x_train, \n",
    "                                                                                                                   y_train, \n",
    "                                                                                                                   x_test, \n",
    "                                                                                                                   y_test, \n",
    "                                                                                                                   age_train,\n",
    "                                                                                                                   age_test, \n",
    "                                                                                                                   optimal_weights_bank, \n",
    "                                                                                                                   [0.1,0.15,0.2])"
   ]
  },
  {
   "cell_type": "code",
   "execution_count": 125,
   "metadata": {},
   "outputs": [
    {
     "data": {
      "image/png": "[encoded data removed]",
      "text/plain": [
       "<Figure size 432x288 with 2 Axes>"
      ]
     },
     "metadata": {
      "needs_background": "light"
     },
     "output_type": "display_data"
    }
   ],
   "source": [
    "import matplotlib.pyplot as plt\n",
    "print(\"Train Accuracy and P% Rule\")\n",
    "fig, ax1 = plt.subplots()\n",
    "\n",
    "ax2 = ax1.twinx()\n",
    "ax1.plot([0.1,0.15,0.2], acc , 'g-')\n",
    "ax2.plot([0.1,0.15,0.2], p_val_list, 'b-')\n",
    "\n",
    "ax1.set_xlabel('Gamma - Loss Factor')\n",
    "ax1.set_ylabel('Accuracy', color='g')\n",
    "ax2.set_ylabel('P% Rule', color='b')\n",
    "\n",
    "plt.show()"
   ]
  },
  {
   "cell_type": "code",
   "execution_count": 127,
   "metadata": {},
   "outputs": [
    {
     "name": "stdout",
     "output_type": "stream",
     "text": [
      "Test Accuracy and P% Rule\n"
     ]
    },
    {
     "data": {
      "image/png": "[encoded data removed]",
      "text/plain": [
       "<Figure size 432x288 with 2 Axes>"
      ]
     },
     "metadata": {
      "needs_background": "light"
     },
     "output_type": "display_data"
    }
   ],
   "source": [
    "fig, ax1 = plt.subplots()\n",
    "print(\"Test Accuracy and P% Rule\")\n",
    "ax2 = ax1.twinx()\n",
    "ax1.plot([0.1,0.15,0.2], acc_test , 'g-')\n",
    "ax2.plot([0.1,0.15,0.2], p_val_list_test, 'b-')\n",
    "\n",
    "ax1.set_xlabel('Gamma - Loss Factor')\n",
    "ax1.set_ylabel('Accuracy', color='g')\n",
    "ax2.set_ylabel('P% Rule', color='b')\n",
    "\n",
    "plt.show()"
   ]
  },
  {
   "cell_type": "markdown",
   "metadata": {
    "id": "Yc8V0XtMOggT"
   },
   "source": [
    "# COMPAS DATASET "
   ]
  },
  {
   "cell_type": "code",
   "execution_count": 54,
   "metadata": {},
   "outputs": [],
   "source": [
    "fp = 'data/compas-scores-two-years.csv'\n",
    "compas_df = pd.read_csv(fp)\n"
   ]
  },
  {
   "cell_type": "code",
   "execution_count": 55,
   "metadata": {},
   "outputs": [],
   "source": [
    "def process_compas_dataset(compas_df): \n",
    "    #Drop Missing values and subset on columns needed\n",
    "    compas_df.dropna()\n",
    "    compas_subset = compas_df[[\"sex\",\"age\",\"age_cat\",\"race\",\"priors_count\",\"c_charge_degree\",\"c_jail_in\", \"c_jail_out\",'two_year_recid']]\n",
    "    compas_subset[\"two_year_recid\"] = compas_subset[\"two_year_recid\"].apply(lambda x: -1 if x==0 else 1)\n",
    "    \n",
    "    #Only select Caucasian/African American, encode to 0/1\n",
    "    compas_subset = compas_subset[(compas_subset[\"race\"]=='Caucasian') |(compas_subset[\"race\"]=='African-American') ]\n",
    "    compas_subset[\"race_cat\"] = compas_subset[\"race\"].apply(lambda x: 1 if x == \"Caucasian\" else 0)\n",
    "    compas_subset = compas_subset.drop(columns = \"race\")\n",
    "    \n",
    "    #Encode gender to 0/1\n",
    "    compas_subset[\"gender_cat\"] = compas_subset[\"sex\"].apply(lambda x: 1 if x == \"Female\" else 0)\n",
    "    compas_subset = compas_subset.drop(columns = \"sex\")\n",
    "    \n",
    "    #Encode charge degree to 0/1\n",
    "    compas_subset[\"charge_cat\"] = compas_subset[\"c_charge_degree\"].apply(lambda x: 1 if x == \"F\" else 0)\n",
    "    compas_subset = compas_subset.drop(columns = \"c_charge_degree\")\n",
    "    \n",
    "    #Calculate length of stay from jail out - jail in \n",
    "    compas_subset[\"length_stay\"] = pd.to_datetime(compas_subset[\"c_jail_out\"]) - pd.to_datetime(compas_subset['c_jail_in'])\n",
    "    compas_subset[\"length_stay\"] = compas_subset[\"length_stay\"].apply(lambda x: x.days)\n",
    "    compas_subset = compas_subset.drop(columns = [\"c_jail_in\",\"c_jail_out\"])\n",
    "    compas_subset['length_stay'] = compas_subset[\"length_stay\"].apply(lambda x: 0 if x <= 7 else x)\n",
    "    compas_subset['length_stay'] = compas_subset[\"length_stay\"].apply(lambda x: 1 if 7< x <= 90 else x)\n",
    "    compas_subset['length_stay'] = compas_subset[\"length_stay\"].apply(lambda x: 2 if x > 90 else x)\n",
    "    \n",
    "    #Categorize priors count into 3 categories \n",
    "    compas_subset[\"priors_count\"] = compas_subset[\"priors_count\"].apply(lambda x: 0 if x==0 else x)\n",
    "    compas_subset[\"priors_count\"] = compas_subset[\"priors_count\"].apply(lambda x: 1 if (1<=x<=3) else x)\n",
    "    compas_subset[\"priors_count\"] = compas_subset[\"priors_count\"].apply(lambda x: 2 if x>3 else x)\n",
    "    \n",
    "    #One hot encode age_cat \n",
    "    dummies = pd.get_dummies(compas_subset[\"age_cat\"])\n",
    "    compas_subset = pd.merge(compas_subset, dummies, left_index = True, right_index = True)\n",
    "    compas_subset = compas_subset.drop(columns = [\"age_cat\",\"age\"])\n",
    "    \n",
    "    compas_subset = compas_subset.dropna()\n",
    "    y_label = compas_subset[\"two_year_recid\"]\n",
    "    protected_attribute = compas_subset[\"race_cat\"]\n",
    "    df = compas_subset.drop(columns=[\"two_year_recid\",\"race_cat\"])\n",
    "\n",
    "    y_label, protected_attr, df = shuffle(y_label, protected_attribute, df, random_state = 0)\n",
    "\n",
    "    return y_label.to_numpy(), protected_attr.to_numpy(), df.to_numpy()"
   ]
  },
  {
   "cell_type": "code",
   "execution_count": 56,
   "metadata": {},
   "outputs": [
    {
     "name": "stderr",
     "output_type": "stream",
     "text": [
      "/Users/kerry.cook@ibm.com/anaconda3/lib/python3.6/site-packages/ipykernel_launcher.py:5: SettingWithCopyWarning: \n",
      "A value is trying to be set on a copy of a slice from a DataFrame.\n",
      "Try using .loc[row_indexer,col_indexer] = value instead\n",
      "\n",
      "See the caveats in the documentation: https://pandas.pydata.org/pandas-docs/stable/user_guide/indexing.html#returning-a-view-versus-a-copy\n",
      "  \"\"\"\n"
     ]
    }
   ],
   "source": [
    "y_label, protected_attr, X =  process_compas_dataset(compas_df)\n",
    "\n",
    "train_index = int(len(X)*.80)\n",
    "x_train, y_train, race_train = X[:train_index], y_label[:train_index], protected_attr[:train_index]\n",
    "x_test, y_test, race_test = X[train_index:], y_label[train_index:],protected_attr[train_index:]"
   ]
  },
  {
   "cell_type": "code",
   "execution_count": 57,
   "metadata": {},
   "outputs": [
    {
     "name": "stdout",
     "output_type": "stream",
     "text": [
      "Logistic Regression Accuracy: 0.661876584953508\n"
     ]
    },
    {
     "name": "stderr",
     "output_type": "stream",
     "text": [
      "/Users/kerry.cook@ibm.com/anaconda3/lib/python3.6/site-packages/sklearn/linear_model/logistic.py:433: FutureWarning: Default solver will be changed to 'lbfgs' in 0.22. Specify a solver to silence this warning.\n",
      "  FutureWarning)\n"
     ]
    }
   ],
   "source": [
    "clf = LogisticRegression(random_state=0).fit(x_train, y_train)\n",
    "print(f\"Logistic Regression Accuracy: {clf.score(x_test, y_test)}\")\n",
    "\n",
    "coeff = clf.coef_\n",
    "intercept = clf.intercept_\n",
    "optimal_loss = log_loss(y_train, clf.predict_proba(x_train))"
   ]
  },
  {
   "cell_type": "code",
   "execution_count": 58,
   "metadata": {},
   "outputs": [
    {
     "data": {
      "text/plain": [
       "(0.5974526902979804, 0.32718651211801897, 0.547635850388144)"
      ]
     },
     "execution_count": 58,
     "metadata": {},
     "output_type": "execute_result"
    }
   ],
   "source": [
    "p_rule(race_train, clf.predict(x_train))"
   ]
  },
  {
   "cell_type": "code",
   "execution_count": 59,
   "metadata": {},
   "outputs": [],
   "source": [
    "#Reshape arrays to calcualte dist from decision boundary \n",
    "ind = x_train.shape[0]\n",
    "lift = np.ones(ind).reshape(ind, 1)\n",
    "x_train = np.concatenate((x_train, lift), axis = 1)\n",
    "\n",
    "optimal_weights_compas= np.concatenate((coeff, intercept.reshape(1,1)), axis = 1)"
   ]
  },
  {
   "cell_type": "code",
   "execution_count": 304,
   "metadata": {},
   "outputs": [
    {
     "name": "stderr",
     "output_type": "stream",
     "text": [
      "/Users/kerry.cook@ibm.com/anaconda3/lib/python3.6/site-packages/ipykernel_launcher.py:7: RuntimeWarning: overflow encountered in power\n",
      "  import sys\n"
     ]
    }
   ],
   "source": [
    "gamma = 0.2\n",
    "cons = {'type':'ineq', 'fun': constraint1, 'args': (x_train, y_train, gamma)}\n",
    "\n",
    "result = optimize.minimize(opt_function,\n",
    "                           x0=optimal_weights,\n",
    "                           args= (x_train,race_train),\n",
    "                           method='SLSQP',\n",
    "                           constraints=cons,\n",
    "                           options={'maxiter':40})"
   ]
  },
  {
   "cell_type": "code",
   "execution_count": 70,
   "metadata": {},
   "outputs": [
    {
     "name": "stdout",
     "output_type": "stream",
     "text": [
      "Accuracy for gamma 0.05: 0.6299661876584953\n",
      "P Rule Value: 0.6802906157982332\n",
      "Perc of protected vs non protected in positive class: 0.3082191780821918: 0.45306986591390264\n",
      "Accuracy for gamma 0.1: 0.5617075232459848\n",
      "P Rule Value: 0.9035258405977584\n",
      "Perc of protected vs non protected in positive class: 0.2244467860906217: 0.24841213832039521\n",
      "Accuracy for gamma 0.11: 0.5420540997464074\n",
      "P Rule Value: 1.0219080928786552\n",
      "Perc of protected vs non protected in positive class: 0.10168598524762908: 0.0995059985885674\n"
     ]
    }
   ],
   "source": [
    "compas_acc, c_p_val_list, c_protected, c_nonpro = run_mult_optmizations(x_train, y_train, race_train, optimal_weights_compas, [0.05,0.1,0.11])"
   ]
  },
  {
   "cell_type": "code",
   "execution_count": null,
   "metadata": {},
   "outputs": [],
   "source": []
  }
 ],
 "metadata": {
  "colab": {
   "collapsed_sections": [],
   "name": "FairnessConstraints.ipynb",
   "provenance": []
  },
  "hide_input": false,
  "kernelspec": {
   "display_name": "Python 3",
   "language": "python",
   "name": "python3"
  },
  "language_info": {
   "codemirror_mode": {
    "name": "ipython",
    "version": 3
   },
   "file_extension": ".py",
   "mimetype": "text/x-python",
   "name": "python",
   "nbconvert_exporter": "python",
   "pygments_lexer": "ipython3",
   "version": "3.6.8"
  }
 },
 "nbformat": 4,
 "nbformat_minor": 1
}
