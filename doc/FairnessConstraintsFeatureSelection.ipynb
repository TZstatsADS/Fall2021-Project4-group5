{
 "cells": [
  {
   "cell_type": "markdown",
   "metadata": {
    "id": "Tz6mX1djuyGe"
   },
   "source": [
    "# Maximize Fairness Under Accuracy Constraints - Logistic Regression"
   ]
  },
  {
   "cell_type": "markdown",
   "metadata": {},
   "source": [
    "Bank dataset - https://archive.ics.uci.edu/ml/machine-learning-databases/00222/ and download bank.zip and place bank-full.csv in the data folder\n",
    "\n",
    "COMAPS - https://github.com/propublica/compas-analysis/blob/master/compas-scores-two-years.csv download csv and place in data folder"
   ]
  },
  {
   "cell_type": "markdown",
   "metadata": {},
   "source": [
    "## Bank Dataset - As used in the Paper Evaluation Section"
   ]
  },
  {
   "cell_type": "markdown",
   "metadata": {
    "id": "Gup6jQ35u6DY"
   },
   "source": [
    "### 1) Preprocess Bank marketing Data"
   ]
  },
  {
   "cell_type": "code",
   "execution_count": 14,
   "metadata": {
    "id": "2Xv1_tUoXICI"
   },
   "outputs": [],
   "source": [
    "#Load data \n",
    "import pandas as pd \n",
    "from sklearn.linear_model import LogisticRegression\n",
    "from sklearn.utils import shuffle\n",
    "import numpy as np\n",
    "from sklearn.metrics import log_loss\n",
    "from scipy import optimize\n",
    "import copy\n",
    "import itertools\n",
    "import math\n",
    "from sklearn.svm import SVC\n",
    "from sklearn.utils import shuffle\n",
    "\n",
    "fp = \"../data/bank-full.csv\"\n",
    "bank_df = pd.read_csv(fp, delimiter=\";\")"
   ]
  },
  {
   "cell_type": "markdown",
   "metadata": {},
   "source": [
    "As outlined in the paper, the bank dataset was used to evaluate the model. In the paper, the authors use age as the sensitive attribute, where ages between 25 and 60 are the protected group and the remaining ages are the non protected group. The logistic model predicts whether or not a person subscribed to a term deposit. Features used for classification are marital status, job, education level, method of contact, whether or not the person defaulted on a previous loan, and whether they had a previous loan. \n"
   ]
  },
  {
   "cell_type": "code",
   "execution_count": 3,
   "metadata": {
    "id": "Wf9VkU8raM7B"
   },
   "outputs": [],
   "source": [
    "\n",
    "def process_data(bank_df): \n",
    "  \n",
    "  y_actual = bank_df[\"y\"].apply(lambda x: 1 if x == \"yes\" else -1)\n",
    "  age = bank_df[\"age\"].apply(lambda x: 1 if 25<= x <= 60 else 0)\n",
    "  bank_df = bank_df.drop(columns = [\"age\", \"y\", \"day\", \"month\"])\n",
    "\n",
    "  #Have more than two categories - one hot encode\n",
    "  columns = ['job', 'marital', 'education','contact','poutcome']\n",
    "  for c in columns: \n",
    "    dummies = pd.get_dummies(bank_df[c])\n",
    "    bank_df = pd.merge(bank_df, dummies, left_index = True, right_index = True)\n",
    "    bank_df = bank_df.drop(columns = [c])\n",
    "\n",
    "  #Binary variables, apply 1/0 for yes/no\n",
    "  binary_vars = ['default', 'housing', 'loan']\n",
    "  for b in binary_vars: \n",
    "    bank_df[b] = bank_df[b].apply(lambda x: 1 if x ==\"yes\" else 0 )\n",
    "\n",
    "  bank_df, y_actual, age = shuffle(bank_df, y_actual, age, random_state=0)\n",
    "\n",
    "  return bank_df.to_numpy(), y_actual.to_numpy(), age.to_numpy()\n",
    "\n",
    "def accuracy(w, x, y):\n",
    "  shape = x.shape[1]\n",
    "  pred = np.dot(x, w.reshape(shape,1))\n",
    "  pred_prob = 1/(1+ 2.718**(-pred))\n",
    "  \n",
    "  pred_prob[pred_prob>=0.5] = 1\n",
    "  pred_prob[pred_prob<0.5] = -1\n",
    "\n",
    "  matches = np.where(pred_prob== y.reshape(pred_prob.shape))\n",
    "\n",
    "  return (matches[0].shape[0]/pred_prob.shape[0]), pred_prob\n",
    "\n",
    "#Determine p% rule ratio - number of protected (age btw 25 and 60) in the positive class: \n",
    "#not protected (less than 25 or older than 60) in positive class\n",
    "def p_rule(age_var, predicted_y):\n",
    "  \n",
    "  not_protected = np.where(age_var != 1)[0]\n",
    "  protected = np.where(age_var == 1)[0] \n",
    "\n",
    "  protected_preds = np.where(predicted_y[protected] == 1)\n",
    "  nonpro_preds = np.where(predicted_y[not_protected] == 1)\n",
    "  protected_perc = (protected_preds[0].shape[0]/protected.shape[0]) \n",
    "  nonpro_perc = (nonpro_preds[0].shape[0]/not_protected.shape[0])\n",
    "\n",
    "  perc_ratio = protected_perc/nonpro_perc\n",
    "\n",
    "  return perc_ratio, protected_perc, nonpro_perc"
   ]
  },
  {
   "cell_type": "code",
   "execution_count": 4,
   "metadata": {
    "id": "w0sVx6oZaXFO"
   },
   "outputs": [],
   "source": [
    "X, y, age = process_data(bank_df)\n",
    "\n",
    "#X,y, and age shuffled already, split into train and test tests\n",
    "train_index = int(len(X)*.80)\n",
    "x_train, y_train, age_train = X[:train_index], y[:train_index], age[:train_index]\n",
    "x_test, y_test, age_test = X[train_index:], y[train_index:], age[train_index:]"
   ]
  },
  {
   "cell_type": "markdown",
   "metadata": {},
   "source": [
    "### Train Logistic Regression model without any constraints "
   ]
  },
  {
   "cell_type": "code",
   "execution_count": 6,
   "metadata": {
    "colab": {
     "base_uri": "https://localhost:8080/"
    },
    "id": "d4IEXDvMXyhO",
    "outputId": "80eb3847-2486-4995-c42c-e6eac2e490b5"
   },
   "outputs": [
    {
     "name": "stderr",
     "output_type": "stream",
     "text": [
      "/Users/kerry.cook@ibm.com/anaconda3/lib/python3.6/site-packages/sklearn/linear_model/logistic.py:433: FutureWarning: Default solver will be changed to 'lbfgs' in 0.22. Specify a solver to silence this warning.\n",
      "  FutureWarning)\n"
     ]
    },
    {
     "name": "stdout",
     "output_type": "stream",
     "text": [
      "Logistic Regression Accuracy: 0.8997179827471798\n",
      "P-rule value: (0.27308801279219336, 0.05042673224359902, 0.18465377417342482)\n"
     ]
    }
   ],
   "source": [
    "#Get optimal coefficients by just training normal LR model \n",
    "clf = LogisticRegression(random_state=0).fit(x_train, y_train)\n",
    "print(f\"Logistic Regression Accuracy: {clf.score(x_train, y_train)}\")\n",
    "print(f\"P-rule value: {p_rule(age_train, clf.predict(x_train))}\")\n",
    "\n",
    "coeff = clf.coef_\n",
    "intercept = clf.intercept_\n",
    "optimal_loss = log_loss(y_train, clf.predict_proba(x_train))\n"
   ]
  },
  {
   "cell_type": "code",
   "execution_count": 7,
   "metadata": {},
   "outputs": [
    {
     "name": "stdout",
     "output_type": "stream",
     "text": [
      "Logistic Regression Accuracy: 0.9016919163994249\n",
      "P-rule value: (0.3003949522521662, 0.05260723783096312, 0.1751269035532995)\n"
     ]
    }
   ],
   "source": [
    "print(f\"Logistic Regression Accuracy: {clf.score(x_test, y_test)}\")\n",
    "print(f\"P-rule value: {p_rule(age_test, clf.predict(x_test))}\")"
   ]
  },
  {
   "cell_type": "markdown",
   "metadata": {},
   "source": [
    "### Add lift factor to dataset, functions for optimization problem as defined in paper"
   ]
  },
  {
   "cell_type": "code",
   "execution_count": 112,
   "metadata": {
    "id": "jj28XDFV6c3w"
   },
   "outputs": [],
   "source": [
    "#Reshape arrays to calcualte dist from decision boundary \n",
    "ind = x_train.shape[0]\n",
    "ind_test = x_test.shape[0] \n",
    "\n",
    "lift = np.ones(ind).reshape(ind, 1)\n",
    "lift_test = np.ones(ind_test).reshape(ind_test, 1)\n",
    "x_test =  np.concatenate((x_test, lift_test), axis = 1)\n",
    "x_train = np.concatenate((x_train, lift), axis = 1)\n",
    "\n",
    "optimal_weights_bank = np.concatenate((coeff, intercept.reshape(1,1)), axis = 1)"
   ]
  },
  {
   "cell_type": "code",
   "execution_count": 101,
   "metadata": {
    "id": "obRqt4CjqMqg"
   },
   "outputs": [],
   "source": [
    "#Create Constraints for optimization problem \n",
    "def logisitc_loss(weights, X, y):\n",
    "  \n",
    "  shape = x_train.shape[1]\n",
    "  dp = np.dot(X, weights.reshape(shape,1))\n",
    "  dp = dp.astype(np.float64)\n",
    "  pred_prob = 1/(1+ 2.718**(-dp))\n",
    "\n",
    "  pred_classes = np.concatenate((1-pred_prob, pred_prob), axis = 1)\n",
    "  loss = log_loss(y, pred_classes)\n",
    "\n",
    "  return loss \n",
    "\n",
    "def constraint1(weights, x, y, gamma):\n",
    "  \n",
    "  upd_loss = logisitc_loss(weights, x, y)\n",
    "\n",
    "  return (1+gamma)*optimal_loss - upd_loss #Accuracy constraint function from paper \n",
    "\n",
    "#Optmization function to minimize - from paper \n",
    "def opt_function(w, x, protected_var):\n",
    "  \n",
    "  dist_bound = np.dot(w, x_train.T)\n",
    "  protected_cov = (protected_var - np.mean(protected_var)) * dist_bound\n",
    "  \n",
    "  return float(abs(sum(protected_cov))) / float(x_train.shape[0])"
   ]
  },
  {
   "cell_type": "code",
   "execution_count": 118,
   "metadata": {
    "colab": {
     "base_uri": "https://localhost:8080/"
    },
    "id": "onDO_MQqkVeC",
    "outputId": "7db1b0aa-b00f-4bde-fe09-f47aa6ab60dc"
   },
   "outputs": [],
   "source": [
    "#https://towardsdatascience.com/optimization-with-scipy-and-application-ideas-to-machine-learning-81d39c7938b8\n",
    "#Run a single optimization with a defined Gamma \n",
    "def run_optimization(x_train, y_train, x_test, y_test, protected_attr, protected_attr_test, gamma, optimal_weights):\n",
    "    constraints = []\n",
    "    cons = {'type':'ineq', 'fun': constraint1, 'args': (x_train, y_train, gamma)}\n",
    "\n",
    "    result = optimize.minimize(opt_function,\n",
    "                               x0=optimal_weights,\n",
    "                               args= (x_train,protected_attr),\n",
    "                               method='SLSQP',\n",
    "                               constraints=cons,\n",
    "                               options={'maxiter':10000})\n",
    "    \n",
    "    accuracy_train, pred_y = accuracy(result.x, x_train, y_train)\n",
    "    p_rule_val, prot_perc, nonp_perc = p_rule(protected_attr, pred_y)\n",
    "    \n",
    "    accuracy_test, y_pred_test = accuracy(result.x, x_test, y_test)\n",
    "    p_rule_val_test, prot_perc_test, nonp_perc_test = p_rule(protected_attr_test, y_pred_test)\n",
    "    \n",
    "    print(f\"Accuracy for gamma {gamma}: {accuracy_train}\")\n",
    "    print(f\"P Rule Value: {p_rule_val}\")\n",
    "    print (f\"Perc of protected vs non protected in positive class: {prot_perc}: {nonp_perc}\")\n",
    "    \n",
    "    return accuracy_train,pred_y, p_rule_val, prot_perc, nonp_perc, accuracy_test, p_rule_val_test, prot_perc_test, nonp_perc_test \n"
   ]
  },
  {
   "cell_type": "code",
   "execution_count": 119,
   "metadata": {
    "colab": {
     "base_uri": "https://localhost:8080/"
    },
    "id": "S1_aikyiPFCm",
    "outputId": "8f176aa4-8ca3-4362-c9f7-58ab95242061"
   },
   "outputs": [],
   "source": [
    "#Run multiple optimizations for multiple gammas values\n",
    "def run_mult_optmizations(x_train, y_train, x_test,y_test, protected_attr, protected_attr_test, optimal_weights, gamma_list):\n",
    "    \n",
    "    accuracy_list, p_val_list, prot_perc_list, nonpro_perc_list = [],[],[],[]\n",
    "    accuracy_list_test, p_val_list_test, prot_perc_list_test, nonpro_perc_list_test = [],[],[],[]\n",
    "    for g in gamma_list: \n",
    "        (accuracy_train, pred_y, p_rule_val, prot_perc, nonp_perc,\n",
    "        accuracy_test, p_rule_val_test, prot_perc_test, nonp_perc_test) = run_optimization(x_train, \n",
    "                                                                                          y_train,\n",
    "                                                                                          x_test,\n",
    "                                                                                          y_test,\n",
    "                                                                                          protected_attr, \n",
    "                                                                                          protected_attr_test,\n",
    "                                                                                          g, \n",
    "                                                                                          optimal_weights)\n",
    "        accuracy_list.append(accuracy_train)\n",
    "        p_val_list.append(p_rule_val)\n",
    "        prot_perc_list.append(prot_perc)\n",
    "        nonpro_perc_list.append(nonp_perc)\n",
    "        \n",
    "        accuracy_list_test.append(accuracy_test)\n",
    "        p_val_list_test.append(p_rule_val_test)\n",
    "        prot_perc_list_test.append(prot_perc_test)\n",
    "        nonpro_perc_list_test.append(nonp_perc_test)\n",
    "        \n",
    "    return accuracy_list, p_val_list, prot_perc_list, nonpro_perc_list,accuracy_list_test, p_val_list_test, prot_perc_list_test, nonpro_perc_list_test\n",
    "        \n",
    "    "
   ]
  },
  {
   "cell_type": "markdown",
   "metadata": {},
   "source": [
    "### Run optimization for different gamma values "
   ]
  },
  {
   "cell_type": "code",
   "execution_count": 120,
   "metadata": {},
   "outputs": [
    {
     "name": "stderr",
     "output_type": "stream",
     "text": [
      "/Users/kerry.cook@ibm.com/anaconda3/lib/python3.6/site-packages/ipykernel_launcher.py:7: RuntimeWarning: overflow encountered in power\n",
      "  import sys\n",
      "/Users/kerry.cook@ibm.com/anaconda3/lib/python3.6/site-packages/ipykernel_launcher.py:7: RuntimeWarning: overflow encountered in power\n",
      "  import sys\n",
      "/Users/kerry.cook@ibm.com/anaconda3/lib/python3.6/site-packages/ipykernel_launcher.py:7: RuntimeWarning: overflow encountered in power\n",
      "  import sys\n",
      "/Users/kerry.cook@ibm.com/anaconda3/lib/python3.6/site-packages/ipykernel_launcher.py:7: RuntimeWarning: overflow encountered in power\n",
      "  import sys\n",
      "/Users/kerry.cook@ibm.com/anaconda3/lib/python3.6/site-packages/ipykernel_launcher.py:7: RuntimeWarning: overflow encountered in power\n",
      "  import sys\n",
      "/Users/kerry.cook@ibm.com/anaconda3/lib/python3.6/site-packages/ipykernel_launcher.py:7: RuntimeWarning: overflow encountered in power\n",
      "  import sys\n"
     ]
    },
    {
     "name": "stdout",
     "output_type": "stream",
     "text": [
      "Accuracy for gamma 0.1: 0.8956536164565362\n",
      "P Rule Value: 0.7409437561184018\n",
      "Perc of protected vs non protected in positive class: 0.0397511934037321: 0.053649407361197755\n"
     ]
    },
    {
     "name": "stderr",
     "output_type": "stream",
     "text": [
      "/Users/kerry.cook@ibm.com/anaconda3/lib/python3.6/site-packages/ipykernel_launcher.py:7: RuntimeWarning: overflow encountered in power\n",
      "  import sys\n",
      "/Users/kerry.cook@ibm.com/anaconda3/lib/python3.6/site-packages/ipykernel_launcher.py:7: RuntimeWarning: overflow encountered in power\n",
      "  import sys\n",
      "/Users/kerry.cook@ibm.com/anaconda3/lib/python3.6/site-packages/ipykernel_launcher.py:7: RuntimeWarning: overflow encountered in power\n",
      "  import sys\n",
      "/Users/kerry.cook@ibm.com/anaconda3/lib/python3.6/site-packages/ipykernel_launcher.py:7: RuntimeWarning: overflow encountered in power\n",
      "  import sys\n",
      "/Users/kerry.cook@ibm.com/anaconda3/lib/python3.6/site-packages/ipykernel_launcher.py:7: RuntimeWarning: overflow encountered in power\n",
      "  import sys\n",
      "/Users/kerry.cook@ibm.com/anaconda3/lib/python3.6/site-packages/ipykernel_launcher.py:7: RuntimeWarning: overflow encountered in power\n",
      "  import sys\n"
     ]
    },
    {
     "name": "stdout",
     "output_type": "stream",
     "text": [
      "Accuracy for gamma 0.15: 0.8932205264322053\n",
      "P Rule Value: 0.8106070823901895\n",
      "Perc of protected vs non protected in positive class: 0.035903370461449445: 0.044291952588895823\n"
     ]
    },
    {
     "name": "stderr",
     "output_type": "stream",
     "text": [
      "/Users/kerry.cook@ibm.com/anaconda3/lib/python3.6/site-packages/ipykernel_launcher.py:7: RuntimeWarning: overflow encountered in power\n",
      "  import sys\n",
      "/Users/kerry.cook@ibm.com/anaconda3/lib/python3.6/site-packages/ipykernel_launcher.py:7: RuntimeWarning: overflow encountered in power\n",
      "  import sys\n",
      "/Users/kerry.cook@ibm.com/anaconda3/lib/python3.6/site-packages/ipykernel_launcher.py:7: RuntimeWarning: overflow encountered in power\n",
      "  import sys\n",
      "/Users/kerry.cook@ibm.com/anaconda3/lib/python3.6/site-packages/ipykernel_launcher.py:7: RuntimeWarning: overflow encountered in power\n",
      "  import sys\n",
      "/Users/kerry.cook@ibm.com/anaconda3/lib/python3.6/site-packages/ipykernel_launcher.py:7: RuntimeWarning: overflow encountered in power\n",
      "  import sys\n",
      "/Users/kerry.cook@ibm.com/anaconda3/lib/python3.6/site-packages/ipykernel_launcher.py:7: RuntimeWarning: overflow encountered in power\n",
      "  import sys\n",
      "/Users/kerry.cook@ibm.com/anaconda3/lib/python3.6/site-packages/ipykernel_launcher.py:7: RuntimeWarning: overflow encountered in power\n",
      "  import sys\n"
     ]
    },
    {
     "name": "stdout",
     "output_type": "stream",
     "text": [
      "Accuracy for gamma 0.2: 0.8903174076531741\n",
      "P Rule Value: 0.8579632576305513\n",
      "Perc of protected vs non protected in positive class: 0.024620280630695792: 0.028696194635059263\n"
     ]
    }
   ],
   "source": [
    "(acc, p_val_list, protected, nonpro, \n",
    " acc_test, p_val_list_test, protected_test, nonpro_test) = run_mult_optmizations(x_train, \n",
    "                                                                                y_train, \n",
    "                                                                                x_test, \n",
    "                                                                                y_test, \n",
    "                                                                                age_train,\n",
    "                                                                                age_test, \n",
    "                                                                                optimal_weights_bank, \n",
    "                                                                                [0.1,0.15,0.2])"
   ]
  },
  {
   "cell_type": "code",
   "execution_count": 128,
   "metadata": {},
   "outputs": [
    {
     "name": "stdout",
     "output_type": "stream",
     "text": [
      "Train Accuracy and P% Rule\n"
     ]
    },
    {
     "data": {
      "image/png": "[encoded data removed]",
      "text/plain": [
       "<Figure size 432x288 with 2 Axes>"
      ]
     },
     "metadata": {
      "needs_background": "light"
     },
     "output_type": "display_data"
    }
   ],
   "source": [
    "import matplotlib.pyplot as plt\n",
    "print(\"Train Accuracy and P% Rule\")\n",
    "fig, ax1 = plt.subplots()\n",
    "\n",
    "ax2 = ax1.twinx()\n",
    "ax1.plot([0.1,0.15,0.2], acc , 'g-')\n",
    "ax2.plot([0.1,0.15,0.2], p_val_list, 'b-')\n",
    "\n",
    "ax1.set_xlabel('Gamma - Loss Factor')\n",
    "ax1.set_ylabel('Accuracy', color='g')\n",
    "ax2.set_ylabel('P% Rule', color='b')\n",
    "\n",
    "plt.show()"
   ]
  },
  {
   "cell_type": "code",
   "execution_count": 129,
   "metadata": {},
   "outputs": [
    {
     "name": "stdout",
     "output_type": "stream",
     "text": [
      "Test Accuracy and P% Rule\n"
     ]
    },
    {
     "data": {
      "image/png": "[encoded data removed]",
      "text/plain": [
       "<Figure size 432x288 with 2 Axes>"
      ]
     },
     "metadata": {
      "needs_background": "light"
     },
     "output_type": "display_data"
    }
   ],
   "source": [
    "fig, ax1 = plt.subplots()\n",
    "print(\"Test Accuracy and P% Rule\")\n",
    "ax2 = ax1.twinx()\n",
    "ax1.plot([0.1,0.15,0.2], acc_test , 'g-')\n",
    "ax2.plot([0.1,0.15,0.2], p_val_list_test, 'b-')\n",
    "\n",
    "ax1.set_xlabel('Gamma - Loss Factor')\n",
    "ax1.set_ylabel('Accuracy', color='g')\n",
    "ax2.set_ylabel('P% Rule', color='b')\n",
    "\n",
    "plt.show()"
   ]
  },
  {
   "cell_type": "markdown",
   "metadata": {
    "id": "Yc8V0XtMOggT"
   },
   "source": [
    "# COMPAS DATASET "
   ]
  },
  {
   "cell_type": "markdown",
   "metadata": {},
   "source": [
    "The COMPAS dataset was not used for evaluation in the paper, but implemented below to predict the two_year_recid binary label. "
   ]
  },
  {
   "cell_type": "code",
   "execution_count": 8,
   "metadata": {},
   "outputs": [],
   "source": [
    "fp = '../data/compas-scores-two-years.csv'\n",
    "compas_df = pd.read_csv(fp)\n"
   ]
  },
  {
   "cell_type": "code",
   "execution_count": 9,
   "metadata": {},
   "outputs": [],
   "source": [
    "def process_compas_dataset(compas_df): \n",
    "    #Drop Missing values and subset on columns needed\n",
    "    compas_df.dropna()\n",
    "    compas_subset = compas_df[[\"sex\",\"age\",\"age_cat\",\"race\",\"priors_count\",\"c_charge_degree\",\"c_jail_in\", \"c_jail_out\",'two_year_recid']]\n",
    "    compas_subset[\"two_year_recid\"] = compas_subset[\"two_year_recid\"].apply(lambda x: -1 if x==0 else 1)\n",
    "    \n",
    "    #Only select Caucasian/African American, encode to 0/1\n",
    "    compas_subset = compas_subset[(compas_subset[\"race\"]=='Caucasian') |(compas_subset[\"race\"]=='African-American') ]\n",
    "    compas_subset[\"race_cat\"] = compas_subset[\"race\"].apply(lambda x: 1 if x == \"Caucasian\" else 0)\n",
    "    compas_subset = compas_subset.drop(columns = \"race\")\n",
    "    \n",
    "    #Encode gender to 0/1\n",
    "    compas_subset[\"gender_cat\"] = compas_subset[\"sex\"].apply(lambda x: 1 if x == \"Female\" else 0)\n",
    "    compas_subset = compas_subset.drop(columns = \"sex\")\n",
    "    \n",
    "    #Encode charge degree to 0/1\n",
    "    compas_subset[\"charge_cat\"] = compas_subset[\"c_charge_degree\"].apply(lambda x: 1 if x == \"F\" else 0)\n",
    "    compas_subset = compas_subset.drop(columns = \"c_charge_degree\")\n",
    "    \n",
    "    #Calculate length of stay from jail out - jail in \n",
    "    compas_subset[\"length_stay\"] = pd.to_datetime(compas_subset[\"c_jail_out\"]) - pd.to_datetime(compas_subset['c_jail_in'])\n",
    "    compas_subset[\"length_stay\"] = compas_subset[\"length_stay\"].apply(lambda x: x.days)\n",
    "    compas_subset = compas_subset.drop(columns = [\"c_jail_in\",\"c_jail_out\"])\n",
    "    compas_subset['length_stay'] = compas_subset[\"length_stay\"].apply(lambda x: 0 if x <= 7 else x)\n",
    "    compas_subset['length_stay'] = compas_subset[\"length_stay\"].apply(lambda x: 1 if 7< x <= 90 else x)\n",
    "    compas_subset['length_stay'] = compas_subset[\"length_stay\"].apply(lambda x: 2 if x > 90 else x)\n",
    "    \n",
    "    #Categorize priors count into 3 categories \n",
    "    compas_subset[\"priors_count\"] = compas_subset[\"priors_count\"].apply(lambda x: 0 if x==0 else x)\n",
    "    compas_subset[\"priors_count\"] = compas_subset[\"priors_count\"].apply(lambda x: 1 if (1<=x<=3) else x)\n",
    "    compas_subset[\"priors_count\"] = compas_subset[\"priors_count\"].apply(lambda x: 2 if x>3 else x)\n",
    "    \n",
    "    #One hot encode age_cat \n",
    "    dummies = pd.get_dummies(compas_subset[\"age_cat\"])\n",
    "    compas_subset = pd.merge(compas_subset, dummies, left_index = True, right_index = True)\n",
    "    compas_subset = compas_subset.drop(columns = [\"age_cat\",\"age\"])\n",
    "    \n",
    "    compas_subset = compas_subset.dropna()\n",
    "    y_label = compas_subset[\"two_year_recid\"]\n",
    "    protected_attribute = compas_subset[\"race_cat\"]\n",
    "    df = compas_subset.drop(columns=[\"two_year_recid\",\"race_cat\"])\n",
    "\n",
    "    y_label, protected_attr, df = shuffle(y_label, protected_attribute, df, random_state = 0)\n",
    "\n",
    "    return y_label.to_numpy(), protected_attr.to_numpy(), df.to_numpy()"
   ]
  },
  {
   "cell_type": "code",
   "execution_count": 10,
   "metadata": {},
   "outputs": [
    {
     "name": "stderr",
     "output_type": "stream",
     "text": [
      "/Users/kerry.cook@ibm.com/anaconda3/lib/python3.6/site-packages/ipykernel_launcher.py:5: SettingWithCopyWarning: \n",
      "A value is trying to be set on a copy of a slice from a DataFrame.\n",
      "Try using .loc[row_indexer,col_indexer] = value instead\n",
      "\n",
      "See the caveats in the documentation: https://pandas.pydata.org/pandas-docs/stable/user_guide/indexing.html#returning-a-view-versus-a-copy\n",
      "  \"\"\"\n"
     ]
    }
   ],
   "source": [
    "y_label, protected_attr, X =  process_compas_dataset(compas_df)\n",
    "\n",
    "train_index = int(len(X)*.80)\n",
    "x_train, y_train, race_train = X[:train_index], y_label[:train_index], protected_attr[:train_index]\n",
    "x_test, y_test, race_test = X[train_index:], y_label[train_index:],protected_attr[train_index:]"
   ]
  },
  {
   "cell_type": "code",
   "execution_count": 12,
   "metadata": {},
   "outputs": [
    {
     "name": "stdout",
     "output_type": "stream",
     "text": [
      "Logistic Regression Accuracy: 0.6642011834319527\n",
      "P-rule: (0.5974526902979804, 0.32718651211801897, 0.547635850388144)\n"
     ]
    },
    {
     "name": "stderr",
     "output_type": "stream",
     "text": [
      "/Users/kerry.cook@ibm.com/anaconda3/lib/python3.6/site-packages/sklearn/linear_model/logistic.py:433: FutureWarning: Default solver will be changed to 'lbfgs' in 0.22. Specify a solver to silence this warning.\n",
      "  FutureWarning)\n"
     ]
    }
   ],
   "source": [
    "clf = LogisticRegression(random_state=0).fit(x_train, y_train)\n",
    "print(f\"Logistic Regression Accuracy: {clf.score(x_train, y_train)}\")\n",
    "print(f\"P-rule: {p_rule(race_train, clf.predict(x_train))}\")\n",
    "coeff = clf.coef_\n",
    "intercept = clf.intercept_\n",
    "optimal_loss = log_loss(y_train, clf.predict_proba(x_train))"
   ]
  },
  {
   "cell_type": "code",
   "execution_count": 13,
   "metadata": {},
   "outputs": [
    {
     "name": "stdout",
     "output_type": "stream",
     "text": [
      "Logistic Regression Accuracy: 0.661876584953508\n"
     ]
    },
    {
     "data": {
      "text/plain": [
       "(0.6573326771653544, 0.35625, 0.5419630156472262)"
      ]
     },
     "execution_count": 13,
     "metadata": {},
     "output_type": "execute_result"
    }
   ],
   "source": [
    "print(f\"Logistic Regression Accuracy: {clf.score(x_test, y_test)}\")\n",
    "p_rule(race_test, clf.predict(x_test))\n"
   ]
  },
  {
   "cell_type": "code",
   "execution_count": 135,
   "metadata": {},
   "outputs": [],
   "source": [
    "#Reshape arrays to calcualte dist from decision boundary \n",
    "ind = x_train.shape[0]\n",
    "ind_test = x_test.shape[0] \n",
    "\n",
    "lift = np.ones(ind).reshape(ind, 1)\n",
    "lift_test = np.ones(ind_test).reshape(ind_test, 1)\n",
    "x_test =  np.concatenate((x_test, lift_test), axis = 1)\n",
    "x_train = np.concatenate((x_train, lift), axis = 1)\n",
    "\n",
    "optimal_weights_compas = np.concatenate((coeff, intercept.reshape(1,1)), axis = 1)"
   ]
  },
  {
   "cell_type": "code",
   "execution_count": 137,
   "metadata": {},
   "outputs": [
    {
     "name": "stdout",
     "output_type": "stream",
     "text": [
      "Accuracy for gamma 0.05: 0.6299661876584953\n",
      "P Rule Value: 0.6802906157982332\n",
      "Perc of protected vs non protected in positive class: 0.3082191780821918: 0.45306986591390264\n",
      "Accuracy for gamma 0.1: 0.5617075232459848\n",
      "P Rule Value: 0.9035258405977584\n",
      "Perc of protected vs non protected in positive class: 0.2244467860906217: 0.24841213832039521\n",
      "Accuracy for gamma 0.11: 0.5420540997464074\n",
      "P Rule Value: 1.0219080928786552\n",
      "Perc of protected vs non protected in positive class: 0.10168598524762908: 0.0995059985885674\n"
     ]
    }
   ],
   "source": [
    "(compas_acc, compas_p_val_list, compas_protected, compas_nonpro, \n",
    " compas_acc_test, compas_p_val_list_test, compas_protected_test, compas_nonpro_test) = run_mult_optmizations(x_train, \n",
    "                                                                                y_train, \n",
    "                                                                                x_test, \n",
    "                                                                                y_test, \n",
    "                                                                                race_train,\n",
    "                                                                                race_test, \n",
    "                                                                                optimal_weights_compas, \n",
    "                                                                                [0.05,0.1,0.11])"
   ]
  },
  {
   "cell_type": "code",
   "execution_count": 138,
   "metadata": {},
   "outputs": [
    {
     "name": "stdout",
     "output_type": "stream",
     "text": [
      "Train Accuracy and P% Rule\n"
     ]
    },
    {
     "data": {
      "image/png": "[encoded data removed]",
      "text/plain": [
       "<Figure size 432x288 with 2 Axes>"
      ]
     },
     "metadata": {
      "needs_background": "light"
     },
     "output_type": "display_data"
    }
   ],
   "source": [
    "import matplotlib.pyplot as plt\n",
    "print(\"Train Accuracy and P% Rule\")\n",
    "fig, ax1 = plt.subplots()\n",
    "\n",
    "ax2 = ax1.twinx()\n",
    "ax1.plot( [0.05,0.1,0.11], compas_acc , 'g-')\n",
    "ax2.plot( [0.05,0.1,0.11], compas_p_val_list, 'b-')\n",
    "\n",
    "ax1.set_xlabel('Gamma - Loss Factor')\n",
    "ax1.set_ylabel('Accuracy', color='g')\n",
    "ax2.set_ylabel('P% Rule', color='b')\n",
    "\n",
    "plt.show()"
   ]
  },
  {
   "cell_type": "code",
   "execution_count": 139,
   "metadata": {},
   "outputs": [
    {
     "name": "stdout",
     "output_type": "stream",
     "text": [
      "Test Accuracy and P% Rule\n"
     ]
    },
    {
     "data": {
      "image/png": "[encoded data removed]",
      "text/plain": [
       "<Figure size 432x288 with 2 Axes>"
      ]
     },
     "metadata": {
      "needs_background": "light"
     },
     "output_type": "display_data"
    }
   ],
   "source": [
    "print(\"Test Accuracy and P% Rule\")\n",
    "fig, ax1 = plt.subplots()\n",
    "\n",
    "ax2 = ax1.twinx()\n",
    "ax1.plot( [0.05,0.1,0.11], compas_acc_test , 'g-')\n",
    "ax2.plot( [0.05,0.1,0.11], compas_p_val_list_test, 'b-')\n",
    "\n",
    "ax1.set_xlabel('Gamma - Loss Factor')\n",
    "ax1.set_ylabel('Accuracy', color='g')\n",
    "ax2.set_ylabel('P% Rule', color='b')\n",
    "\n",
    "plt.show()"
   ]
  },
  {
   "cell_type": "markdown",
   "metadata": {},
   "source": [
    "# Fairness Aware Feature Selection "
   ]
  },
  {
   "cell_type": "markdown",
   "metadata": {},
   "source": [
    "In this section, we implement the routines described in \"Information Theoretic Measures for Fairness-aware Feature Selection.\" On the training data, we calculate Shapley coefficients for each of our features capturing effects on both accuracy and discrimation on our protected group (i.e. race)."
   ]
  },
  {
   "cell_type": "code",
   "execution_count": 15,
   "metadata": {},
   "outputs": [
    {
     "name": "stderr",
     "output_type": "stream",
     "text": [
      "/Users/kerry.cook@ibm.com/anaconda3/lib/python3.6/site-packages/ipykernel_launcher.py:5: SettingWithCopyWarning: \n",
      "A value is trying to be set on a copy of a slice from a DataFrame.\n",
      "Try using .loc[row_indexer,col_indexer] = value instead\n",
      "\n",
      "See the caveats in the documentation: https://pandas.pydata.org/pandas-docs/stable/user_guide/indexing.html#returning-a-view-versus-a-copy\n",
      "  \"\"\"\n"
     ]
    }
   ],
   "source": [
    "#Still using compas dataset for evaluation \n",
    "y_label, protected_attr, X =  process_compas_dataset(compas_df)\n",
    "\n",
    "train_index = int(len(X)*6./7.)\n",
    "x_train, y_train, race_train = X[:train_index], y_label[:train_index], protected_attr[:train_index]\n",
    "x_test, y_test, race_test = X[train_index:], y_label[train_index:],protected_attr[train_index:]"
   ]
  },
  {
   "cell_type": "code",
   "execution_count": 16,
   "metadata": {},
   "outputs": [],
   "source": [
    "\"\"\"This cell contains utility functions called in the proceeding cells.\"\"\"\n",
    "\n",
    "def get_uniq_vals_in_arr(arr):\n",
    "    \"\"\"Returns unique values in array.\n",
    "    \n",
    "    :param arr (np.array) n * m matrix\n",
    "    :return (list) uniq_vals[i] contains unique values of ith column in arr\n",
    "    \"\"\"\n",
    "    uniq_vals = []\n",
    "    for id_col in range(arr.shape[1]):\n",
    "        uniq_vals.append(np.unique(arr[:, id_col]).tolist())\n",
    "    return uniq_vals\n",
    "\n",
    "\n",
    "def powerset(seq):\n",
    "    \"\"\"\n",
    "    Returns all the subsets of this set. This is a generator.\n",
    "    \"\"\"\n",
    "    if len(seq) <= 1:\n",
    "        yield seq\n",
    "        yield []\n",
    "    else:\n",
    "        for item in powerset(seq[1:]):\n",
    "            yield [seq[0]]+item\n",
    "            yield item"
   ]
  },
  {
   "cell_type": "code",
   "execution_count": 17,
   "metadata": {},
   "outputs": [],
   "source": [
    "\"\"\"This cell contains code for all the routines needed to calculate the Shapley coefficients.\"\"\"\n",
    "\n",
    "def get_info_coef(left, right):\n",
    "    # Both arrays NEED same number of rows\n",
    "    assert left.shape[0] == right.shape[0]\n",
    "    num_rows = left.shape[0]\n",
    "    num_left_cols = left.shape[1]\n",
    "        \n",
    "    concat_mat = np.concatenate((left, right), axis=1)\n",
    "    concat_uniq_vals = get_uniq_vals_in_arr(concat_mat)\n",
    "    concat_combos = list(itertools.product(*concat_uniq_vals))\n",
    "    p_sum = 0\n",
    "    for vec in concat_combos:\n",
    "        p_r1_r2 = len(np.where((concat_mat == vec).all(axis=1))[0]) / num_rows\n",
    "        p_r1 = len(np.where((left == vec[:num_left_cols]).all(axis=1))[0]) / num_rows\n",
    "        p_r2 = len(np.where((right == vec[num_left_cols:]).all(axis=1))[0]) / num_rows\n",
    "        \n",
    "        if p_r1_r2 == 0 or p_r1 == 0 or p_r2 == 0:\n",
    "            p_iter = 0\n",
    "        else:\n",
    "            p_iter = p_r1_r2 * np.log(p_r1_r2 / p_r1) / p_r1\n",
    "        p_sum += np.abs(p_iter)\n",
    "    return p_sum\n",
    "\n",
    "\n",
    "def get_conditional_info_coef(left, right, conditional): \n",
    "    assert (left.shape[0] == right.shape[0]) and (left.shape[0] == conditional.shape[0])\n",
    "    num_rows = left.shape[0]\n",
    "    num_left_cols = left.shape[1]\n",
    "    num_right_cols = right.shape[1]\n",
    "\n",
    "    right_concat_mat = np.concatenate((right, conditional), axis=1)    \n",
    "    concat_mat = np.concatenate((left, right_concat_mat), axis=1)\n",
    "    concat_uniq_vals = get_uniq_vals_in_arr(concat_mat)\n",
    "    concat_combos = list(itertools.product(*concat_uniq_vals))\n",
    "    p_sum = 0\n",
    "    for vec in concat_combos:\n",
    "        p_r1_r2 = len(np.where((concat_mat == vec).all(axis=1))[0]) / num_rows\n",
    "        p_r1 = len(np.where((left == vec[:num_left_cols]).all(axis=1))[0]) / num_rows\n",
    "        p_r2 = len(np.where((concat_mat[:, num_left_cols: -num_right_cols] == vec[num_left_cols: -num_right_cols]).all(axis=1))[0]) / num_rows\n",
    "        \n",
    "        try:\n",
    "            p_r1_given_r3 = len(np.where((concat_mat[:, :num_left_cols] == vec[:num_left_cols]).all(axis=1) & (concat_mat[:, -num_right_cols:] == vec[-num_right_cols:]).all(axis=1))[0]) / len(np.where((concat_mat[:, -num_right_cols:] == vec[-num_right_cols:]).all(axis=1))[0])\n",
    "        except ZeroDivisionError:\n",
    "            p_r1_given_r3 = 0\n",
    "        \n",
    "        if p_r1_r2 == 0 or p_r1 == 0 or p_r2 == 0 or p_r1_given_r3 == 0:\n",
    "            p_iter = 0\n",
    "        else:\n",
    "            p_iter = p_r1_r2 * np.log(p_r1_r2 / p_r2) / p_r1_given_r3\n",
    "        p_sum += np.abs(p_iter)\n",
    "    return p_sum\n",
    "\n",
    "\n",
    "def get_acc_coef(y, x_s, x_s_c, protected_attr):\n",
    "    conditional = np.concatenate((x_s_c, protected_attr), axis=1)\n",
    "    return get_conditional_info_coef(y, x_s, conditional)\n",
    "\n",
    "\n",
    "def get_disc_coef(y, x_s, protected_attr):\n",
    "    x_s_a = np.concatenate((x_s, protected_attr), axis=1)\n",
    "    return get_info_coef(y, x_s_a) * get_info_coef(x_s, protected_attr) * get_conditional_info_coef(x_s, protected_attr, y)\n",
    "\n",
    "\n",
    "def get_shapley_acc_i(y, x, protected_attr, i):\n",
    "    \"\"\"Returns Shapley coeffecient of ith feature in x.\"\"\"\n",
    "    \n",
    "    num_features = x.shape[1]\n",
    "    lst_idx = list(range(num_features))\n",
    "    lst_idx.pop(i)\n",
    "    power_set = [x for x in powerset(lst_idx) if len(x) > 0]\n",
    "    \n",
    "    shapley = 0\n",
    "    for set_idx in power_set:\n",
    "        coef = math.factorial(len(set_idx)) * math.factorial(num_features - len(set_idx) - 1) / math.factorial(num_features)\n",
    "        \n",
    "        # Calculate v(T U {i})\n",
    "        idx_xs_incl = copy.copy(set_idx)\n",
    "        idx_xs_incl.append(i)\n",
    "        idx_xsc_incl = list(set(list(range(num_features))).difference(set(idx_xs_incl)))\n",
    "        acc_incl = get_acc_coef(y.reshape(-1, 1), x[:, idx_xs_incl], x[:, idx_xsc_incl], protected_attr.reshape(-1, 1))\n",
    "        \n",
    "        # Calculate v(T)\n",
    "        idx_xsc_excl = list(range(num_features))\n",
    "        idx_xsc_excl.pop(i)\n",
    "        idx_xsc_excl = list(set(idx_xsc_excl).difference(set(set_idx)))\n",
    "        acc_excl = get_acc_coef(y.reshape(-1, 1), x[:, set_idx], x[:, idx_xsc_excl], protected_attr.reshape(-1, 1))\n",
    "        \n",
    "        marginal = acc_incl - acc_excl\n",
    "        shapley = shapley + coef * marginal\n",
    "    return shapley\n",
    "\n",
    "\n",
    "def get_shapley_disc_i(y, x, protected_attr, i):\n",
    "    \"\"\"Returns Shapley coeffecient of ith feature in x.\"\"\"\n",
    "    \n",
    "    num_features = x.shape[1]\n",
    "    lst_idx = list(range(num_features))\n",
    "    lst_idx.pop(i)\n",
    "    power_set = [x for x in powerset(lst_idx) if len(x) > 0]\n",
    "    \n",
    "    shapley = 0\n",
    "    for set_idx in power_set:\n",
    "        coef = math.factorial(len(set_idx)) * math.factorial(num_features - len(set_idx) - 1) / math.factorial(num_features)\n",
    "        \n",
    "        # Calculate v_D(T U {i})\n",
    "        idx_xs_incl = copy.copy(set_idx)\n",
    "        idx_xs_incl.append(i)\n",
    "        disc_incl = get_disc_coef(y.reshape(-1, 1), x[:, idx_xs_incl], protected_attr.reshape(-1, 1))\n",
    "        \n",
    "        # Calculate v_D(T)\n",
    "        disc_excl = get_disc_coef(y.reshape(-1, 1), x[:, set_idx], protected_attr.reshape(-1, 1))\n",
    "        \n",
    "        marginal = disc_incl - disc_excl\n",
    "        shapley = shapley + coef * marginal\n",
    "    return shapley"
   ]
  },
  {
   "cell_type": "code",
   "execution_count": 18,
   "metadata": {},
   "outputs": [],
   "source": [
    "# Calculate Shapley disc, acc coefs for each feature over training data\n",
    "shap_acc = []\n",
    "shap_disc = []\n",
    "for i in range(5):\n",
    "    acc_i = get_shapley_acc_i(y_train, x_train, race_train, i)\n",
    "    disc_i = get_shapley_disc_i(y_train, x_train, race_train, i)\n",
    "    \n",
    "    shap_acc.append(acc_i)\n",
    "    shap_disc.append(disc_i)\n",
    "\n",
    "# Build Shapley output\n",
    "feature_names = [\"Prior Count\", \"Gender\", \"Charge Degree\", \"Length of Stay\", \"Age (Categorical)\"]\n",
    "shapley_df = pd.DataFrame(list(zip(feature_names, shap_acc, shap_disc)),\n",
    "                          columns=[\"Feature\", \"Shapley (Accuracy)\", \"Shapley (Discrimination)\"])\n",
    "shapley_df = shapley_df.sort_values(by=[\"Shapley (Discrimination)\"], ascending=[False]).reset_index(0, True)\n",
    "shapley_df.to_csv(\"../output/compas-data-shapley-table.csv\")"
   ]
  },
  {
   "cell_type": "code",
   "execution_count": 19,
   "metadata": {},
   "outputs": [
    {
     "data": {
      "text/html": [
       "<div>\n",
       "<style scoped>\n",
       "    .dataframe tbody tr th:only-of-type {\n",
       "        vertical-align: middle;\n",
       "    }\n",
       "\n",
       "    .dataframe tbody tr th {\n",
       "        vertical-align: top;\n",
       "    }\n",
       "\n",
       "    .dataframe thead th {\n",
       "        text-align: right;\n",
       "    }\n",
       "</style>\n",
       "<table border=\"1\" class=\"dataframe\">\n",
       "  <thead>\n",
       "    <tr style=\"text-align: right;\">\n",
       "      <th></th>\n",
       "      <th>Feature</th>\n",
       "      <th>Shapley (Accuracy)</th>\n",
       "      <th>Shapley (Discrimination)</th>\n",
       "    </tr>\n",
       "  </thead>\n",
       "  <tbody>\n",
       "    <tr>\n",
       "      <th>0</th>\n",
       "      <td>Prior Count</td>\n",
       "      <td>1.07E+00</td>\n",
       "      <td>5.91E+04</td>\n",
       "    </tr>\n",
       "    <tr>\n",
       "      <th>1</th>\n",
       "      <td>Length of Stay</td>\n",
       "      <td>8.93E-01</td>\n",
       "      <td>5.81E+04</td>\n",
       "    </tr>\n",
       "    <tr>\n",
       "      <th>2</th>\n",
       "      <td>Charge Degree</td>\n",
       "      <td>8.53E-01</td>\n",
       "      <td>4.76E+04</td>\n",
       "    </tr>\n",
       "    <tr>\n",
       "      <th>3</th>\n",
       "      <td>Gender</td>\n",
       "      <td>7.53E-01</td>\n",
       "      <td>4.73E+04</td>\n",
       "    </tr>\n",
       "    <tr>\n",
       "      <th>4</th>\n",
       "      <td>Age (Categorical)</td>\n",
       "      <td>1.57E-01</td>\n",
       "      <td>1.04E+04</td>\n",
       "    </tr>\n",
       "  </tbody>\n",
       "</table>\n",
       "</div>"
      ],
      "text/plain": [
       "             Feature  Shapley (Accuracy)  Shapley (Discrimination)\n",
       "0        Prior Count            1.07E+00                  5.91E+04\n",
       "1     Length of Stay            8.93E-01                  5.81E+04\n",
       "2      Charge Degree            8.53E-01                  4.76E+04\n",
       "3             Gender            7.53E-01                  4.73E+04\n",
       "4  Age (Categorical)            1.57E-01                  1.04E+04"
      ]
     },
     "execution_count": 19,
     "metadata": {},
     "output_type": "execute_result"
    }
   ],
   "source": [
    "pd.set_option('display.float_format', lambda x: '%.2E' % x)\n",
    "shapley_df"
   ]
  },
  {
   "cell_type": "markdown",
   "metadata": {},
   "source": [
    "We see that 'Prior Count' has the sharpest affect on both discrimination and accuracy, so eliminating it can prove problematic for a classifier. However, a feature such as 'Age (Categorical)' is relatively discriminatory but eliminating it would not seriously reduce accuracy from our results."
   ]
  },
  {
   "cell_type": "markdown",
   "metadata": {},
   "source": [
    "\n",
    "### Classification\n",
    "Now, we build an SVM model that predicts whether a user will or will not recidivate given the aforementioned features. We calculate accuracy as well as calibration, the difference between accuracy amongst the groups. Finally, we build submodels which eliminate each feature iteratively and calculate both metrics."
   ]
  },
  {
   "cell_type": "code",
   "execution_count": 20,
   "metadata": {},
   "outputs": [],
   "source": [
    "test_acc = []\n",
    "test_cal = []\n",
    "\n",
    "# Build model for overall data inclusive of all features\n",
    "svm = SVC(kernel=\"linear\").fit(x_train, y_train)\n",
    "idx_race_1, idx_race_0  = np.where(race_test == 1)[0], np.where(race_test == 0)[0]\n",
    "test_acc.append(svm.score(x_test, y_test))\n",
    "test_cal.append(svm.score(x_test[idx_race_1], y_test[idx_race_1]) - svm.score(x_test[idx_race_0], y_test[idx_race_0]))\n",
    "\n",
    "# Eliminate one feature at a time build model\n",
    "for id_feature in range(x_train.shape[1]):\n",
    "    idxs = list(range(x_train.shape[1]))\n",
    "    idxs.pop(id_feature)\n",
    "    x_train_mod = x_train[:, idxs]\n",
    "    x_test_mod = x_test[:, idxs]\n",
    "    \n",
    "    svm = SVC(kernel=\"linear\").fit(x_train_mod, y_train)\n",
    "    acc = svm.score(x_test_mod, y_test)\n",
    "    cal = svm.score(x_test_mod[idx_race_1], y_test[idx_race_1]) - svm.score(x_test_mod[idx_race_0], y_test[idx_race_0])\n",
    "    \n",
    "    test_acc.append(acc)\n",
    "    test_cal.append(cal)\n",
    "    \n",
    "\n",
    "index_names = [\"None\", \"Prior Count\", \"Gender\", \"Charge Degree\", \"Length of Stay\", \"Age (Categorical)\"]\n",
    "test_acc = [x * 100 for x in test_acc]\n",
    "test_cal = [x * 100 for x in test_cal]\n",
    "results = pd.DataFrame(list(zip(index_names, test_acc, test_cal)),\n",
    "                          columns=[\"Eliminating Feature\", \"Accuracy (%)\", \"Calibration (%)\"])\n",
    "results[\"Delta (%)\"] = 2.00 - results[\"Calibration (%)\"]\n",
    "results.to_csv(\"../output/compas-data-test-results.csv\")"
   ]
  },
  {
   "cell_type": "code",
   "execution_count": 21,
   "metadata": {},
   "outputs": [
    {
     "data": {
      "text/html": [
       "<div>\n",
       "<style scoped>\n",
       "    .dataframe tbody tr th:only-of-type {\n",
       "        vertical-align: middle;\n",
       "    }\n",
       "\n",
       "    .dataframe tbody tr th {\n",
       "        vertical-align: top;\n",
       "    }\n",
       "\n",
       "    .dataframe thead th {\n",
       "        text-align: right;\n",
       "    }\n",
       "</style>\n",
       "<table border=\"1\" class=\"dataframe\">\n",
       "  <thead>\n",
       "    <tr style=\"text-align: right;\">\n",
       "      <th></th>\n",
       "      <th>Eliminating Feature</th>\n",
       "      <th>Accuracy (%)</th>\n",
       "      <th>Calibration (%)</th>\n",
       "      <th>Delta (%)</th>\n",
       "    </tr>\n",
       "  </thead>\n",
       "  <tbody>\n",
       "    <tr>\n",
       "      <th>0</th>\n",
       "      <td>None</td>\n",
       "      <td>63.79</td>\n",
       "      <td>3.60</td>\n",
       "      <td>-1.60</td>\n",
       "    </tr>\n",
       "    <tr>\n",
       "      <th>1</th>\n",
       "      <td>Prior Count</td>\n",
       "      <td>56.69</td>\n",
       "      <td>2.52</td>\n",
       "      <td>-0.52</td>\n",
       "    </tr>\n",
       "    <tr>\n",
       "      <th>2</th>\n",
       "      <td>Gender</td>\n",
       "      <td>66.98</td>\n",
       "      <td>-1.35</td>\n",
       "      <td>3.35</td>\n",
       "    </tr>\n",
       "    <tr>\n",
       "      <th>3</th>\n",
       "      <td>Charge Degree</td>\n",
       "      <td>65.09</td>\n",
       "      <td>-1.05</td>\n",
       "      <td>3.05</td>\n",
       "    </tr>\n",
       "    <tr>\n",
       "      <th>4</th>\n",
       "      <td>Length of Stay</td>\n",
       "      <td>62.84</td>\n",
       "      <td>2.78</td>\n",
       "      <td>-0.78</td>\n",
       "    </tr>\n",
       "    <tr>\n",
       "      <th>5</th>\n",
       "      <td>Age (Categorical)</td>\n",
       "      <td>66.75</td>\n",
       "      <td>-0.95</td>\n",
       "      <td>2.95</td>\n",
       "    </tr>\n",
       "  </tbody>\n",
       "</table>\n",
       "</div>"
      ],
      "text/plain": [
       "  Eliminating Feature  Accuracy (%)  Calibration (%)  Delta (%)\n",
       "0                None         63.79             3.60      -1.60\n",
       "1         Prior Count         56.69             2.52      -0.52\n",
       "2              Gender         66.98            -1.35       3.35\n",
       "3       Charge Degree         65.09            -1.05       3.05\n",
       "4      Length of Stay         62.84             2.78      -0.78\n",
       "5   Age (Categorical)         66.75            -0.95       2.95"
      ]
     },
     "execution_count": 21,
     "metadata": {},
     "output_type": "execute_result"
    }
   ],
   "source": [
    "pd.set_option('display.float_format', lambda x: '%.2f' % x)\n",
    "results"
   ]
  },
  {
   "cell_type": "markdown",
   "metadata": {},
   "source": [
    "When evaluating the results, we must compare against the baseline calibration score of 2%.\n",
    "\n",
    "Clearly, our results differ somewhat from our pretraining procedures. For example, we show that eliminating 'Prior Count' should result in the strongest drop in discrimation but the results suggest that actually eliminating 'Gender' yields the greatest benefit to discrimation. However, our FFS process showed that dropping 'Charge Degree' is unnecessary and the results prove that as removing it from the training set results in a significantly more discriminatory classifier."
   ]
  },
  {
   "cell_type": "code",
   "execution_count": null,
   "metadata": {},
   "outputs": [],
   "source": []
  }
 ],
 "metadata": {
  "colab": {
   "collapsed_sections": [],
   "name": "FairnessConstraints.ipynb",
   "provenance": []
  },
  "hide_input": false,
  "kernelspec": {
   "display_name": "Python 3",
   "language": "python",
   "name": "python3"
  },
  "language_info": {
   "codemirror_mode": {
    "name": "ipython",
    "version": 3
   },
   "file_extension": ".py",
   "mimetype": "text/x-python",
   "name": "python",
   "nbconvert_exporter": "python",
   "pygments_lexer": "ipython3",
   "version": "3.6.8"
  }
 },
 "nbformat": 4,
 "nbformat_minor": 1
}
