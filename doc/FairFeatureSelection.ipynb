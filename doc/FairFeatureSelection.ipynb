{
 "cells": [
  {
   "cell_type": "markdown",
   "metadata": {},
   "source": [
    "# Fairness-Aware Feature Selection"
   ]
  },
  {
   "cell_type": "markdown",
   "metadata": {},
   "source": [
    "## COMPAS Dataset"
   ]
  },
  {
   "cell_type": "markdown",
   "metadata": {},
   "source": [
    "### 1) Preprocess data"
   ]
  },
  {
   "cell_type": "markdown",
   "metadata": {},
   "source": [
    "The preprocessing modules and imports need to be merged "
   ]
  },
  {
   "cell_type": "code",
   "execution_count": 4,
   "metadata": {},
   "outputs": [],
   "source": [
    "#Load data \n",
    "import pandas as pd \n",
    "from sklearn.linear_model import LogisticRegression\n",
    "from sklearn.svm import SVC\n",
    "from sklearn.utils import shuffle\n",
    "import numpy as np\n",
    "from sklearn.metrics import log_loss\n",
    "from scipy import optimize\n",
    "\n",
    "fp = '../data/compas-scores-two-years.csv'\n",
    "compas_df = pd.read_csv(fp)"
   ]
  },
  {
   "cell_type": "code",
   "execution_count": 146,
   "metadata": {},
   "outputs": [],
   "source": [
    "def process_compas_dataset(compas_df): \n",
    "    #Drop Missing values and subset on columns needed\n",
    "    compas_df.dropna()\n",
    "    compas_subset = compas_df[[\"sex\",\"age\",\"age_cat\",\"race\",\"priors_count\",\"c_charge_degree\",\"c_jail_in\", \"c_jail_out\",'two_year_recid']]\n",
    "    compas_subset[\"two_year_recid\"] = compas_subset[\"two_year_recid\"].apply(lambda x: -1 if x==0 else 1)\n",
    "    \n",
    "    #Only select Caucasian/African American, encode to 0/1\n",
    "    compas_subset = compas_subset[(compas_subset[\"race\"]=='Caucasian') |(compas_subset[\"race\"]=='African-American') ]\n",
    "    compas_subset[\"race_cat\"] = compas_subset[\"race\"].apply(lambda x: 1 if x == \"Caucasian\" else 0)\n",
    "    compas_subset = compas_subset.drop(columns = \"race\")\n",
    "    \n",
    "    #Encode gender to 0/1\n",
    "    compas_subset[\"gender_cat\"] = compas_subset[\"sex\"].apply(lambda x: 1 if x == \"Female\" else 0)\n",
    "    compas_subset = compas_subset.drop(columns = \"sex\")\n",
    "    \n",
    "    #Encode charge degree to 0/1\n",
    "    compas_subset[\"charge_cat\"] = compas_subset[\"c_charge_degree\"].apply(lambda x: 1 if x == \"F\" else 0)\n",
    "    compas_subset = compas_subset.drop(columns = \"c_charge_degree\")\n",
    "    \n",
    "    #Calculate length of stay from jail out - jail in \n",
    "    compas_subset[\"length_stay\"] = pd.to_datetime(compas_subset[\"c_jail_out\"]) - pd.to_datetime(compas_subset['c_jail_in'])\n",
    "    compas_subset[\"length_stay\"] = compas_subset[\"length_stay\"].apply(lambda x: x.days)\n",
    "    compas_subset = compas_subset.drop(columns = [\"c_jail_in\",\"c_jail_out\"])\n",
    "    compas_subset['length_stay'] = compas_subset[\"length_stay\"].apply(lambda x: 0 if x <= 7 else x)\n",
    "    compas_subset['length_stay'] = compas_subset[\"length_stay\"].apply(lambda x: 1 if 7< x <= 90 else x)\n",
    "    compas_subset['length_stay'] = compas_subset[\"length_stay\"].apply(lambda x: 2 if x > 90 else x)\n",
    "    \n",
    "    #Categorize priors count into 3 categories \n",
    "    compas_subset[\"priors_count\"] = compas_subset[\"priors_count\"].apply(lambda x: 0 if x==0 else x)\n",
    "    compas_subset[\"priors_count\"] = compas_subset[\"priors_count\"].apply(lambda x: 1 if (1<=x<=3) else x)\n",
    "    compas_subset[\"priors_count\"] = compas_subset[\"priors_count\"].apply(lambda x: 2 if x>3 else x)\n",
    "    \n",
    "    # Include age as categorical variable \n",
    "    compas_subset = compas_subset.drop(columns = [\"age_cat\"])\n",
    "    \n",
    "    compas_subset = compas_subset.dropna()\n",
    "    y_label = compas_subset[\"two_year_recid\"]\n",
    "    protected_attribute = compas_subset[\"race_cat\"]\n",
    "    df = compas_subset.drop(columns=[\"two_year_recid\",\"race_cat\"])\n",
    "\n",
    "    y_label, protected_attr, df = shuffle(y_label, protected_attribute, df, random_state = 0)\n",
    "\n",
    "    return y_label.to_numpy(), protected_attr.to_numpy(), df.to_numpy()"
   ]
  },
  {
   "cell_type": "code",
   "execution_count": 147,
   "metadata": {},
   "outputs": [
    {
     "name": "stderr",
     "output_type": "stream",
     "text": [
      "/Users/Nikhil/anaconda3/envs/ml/lib/python3.7/site-packages/ipykernel_launcher.py:5: SettingWithCopyWarning: \n",
      "A value is trying to be set on a copy of a slice from a DataFrame.\n",
      "Try using .loc[row_indexer,col_indexer] = value instead\n",
      "\n",
      "See the caveats in the documentation: https://pandas.pydata.org/pandas-docs/stable/user_guide/indexing.html#returning-a-view-versus-a-copy\n",
      "  \"\"\"\n"
     ]
    }
   ],
   "source": [
    "y_label, protected_attr, X =  process_compas_dataset(compas_df)\n",
    "\n",
    "train_index = int(len(X)*6./7.)\n",
    "x_train, y_train, race_train = X[:train_index], y_label[:train_index], protected_attr[:train_index]\n",
    "x_test, y_test, race_test = X[train_index:], y_label[train_index:],protected_attr[train_index:]"
   ]
  },
  {
   "cell_type": "code",
   "execution_count": 148,
   "metadata": {},
   "outputs": [
    {
     "name": "stdout",
     "output_type": "stream",
     "text": [
      "Logistic Regression Accuracy: 0.6781065088757396\n",
      "\tLogistic Regression Accuracy (Race = 1): 0.670487106017192\n",
      "\tLogistic Regression Accuracy (Race = 0): 0.6834677419354839\n"
     ]
    }
   ],
   "source": [
    "clf = LogisticRegression(random_state=0).fit(x_train, y_train)\n",
    "print(f\"Logistic Regression Accuracy: {clf.score(x_test, y_test)}\")\n",
    "\n",
    "idx_race_1, idx_race_0  = np.where(race_test == 1)[0], np.where(race_test == 0)[0]\n",
    "print(f\"\\tLogistic Regression Accuracy (Race = 1): {clf.score(x_test[idx_race_1], y_test[idx_race_1])}\")\n",
    "print(f\"\\tLogistic Regression Accuracy (Race = 0): {clf.score(x_test[idx_race_0], y_test[idx_race_0])}\")\n",
    "\n",
    "coeff = clf.coef_\n",
    "intercept = clf.intercept_\n",
    "optimal_loss = log_loss(y_train, clf.predict_proba(x_train))"
   ]
  },
  {
   "cell_type": "code",
   "execution_count": 153,
   "metadata": {},
   "outputs": [
    {
     "name": "stdout",
     "output_type": "stream",
     "text": [
      "SVM Accuracy: 0.6816568047337278\n",
      "\tSVM Accuracy (Race = 1): 0.6934097421203438\n",
      "\tSVM Accuracy (Race = 0): 0.6733870967741935\n",
      "\n",
      "\n",
      "Omitting Feature 1\n",
      "SVM Accuracy: 0.6402366863905326\n",
      "\tSVM Accuracy (Race = 1): 0.6446991404011462\n",
      "\tSVM Accuracy (Race = 0): 0.6370967741935484\n",
      "\n",
      "\n",
      "Omitting Feature 2\n",
      "SVM Accuracy: 0.6106508875739645\n",
      "\tSVM Accuracy (Race = 1): 0.6103151862464183\n",
      "\tSVM Accuracy (Race = 0): 0.6108870967741935\n",
      "\n",
      "\n",
      "Omitting Feature 3\n",
      "SVM Accuracy: 0.6781065088757396\n",
      "\tSVM Accuracy (Race = 1): 0.6991404011461319\n",
      "\tSVM Accuracy (Race = 0): 0.6633064516129032\n",
      "\n",
      "\n",
      "Omitting Feature 4\n",
      "SVM Accuracy: 0.6781065088757396\n",
      "\tSVM Accuracy (Race = 1): 0.6876790830945558\n",
      "\tSVM Accuracy (Race = 0): 0.6713709677419355\n",
      "\n",
      "\n",
      "Omitting Feature 5\n",
      "SVM Accuracy: 0.663905325443787\n",
      "\tSVM Accuracy (Race = 1): 0.673352435530086\n",
      "\tSVM Accuracy (Race = 0): 0.657258064516129\n",
      "\n",
      "\n"
     ]
    }
   ],
   "source": [
    "svm = SVC(kernel=\"linear\").fit(x_train, y_train)\n",
    "print(f\"SVM Accuracy: {svm.score(x_test, y_test)}\")\n",
    "print(f\"\\tSVM Accuracy (Race = 1): {svm.score(x_test[idx_race_1], y_test[idx_race_1])}\")\n",
    "print(f\"\\tSVM Accuracy (Race = 0): {svm.score(x_test[idx_race_0], y_test[idx_race_0])}\")\n",
    "print(\"\\n\")\n",
    "\n",
    "for id_feature in range(x_train.shape[1]):\n",
    "    print(f\"Omitting Feature {id_feature + 1}\")\n",
    "    \n",
    "    idxs = list(range(x_train.shape[1]))\n",
    "    idxs.pop(id_feature)\n",
    "    x_train_mod = x_train[:, idxs]\n",
    "    x_test_mod = x_test[:, idxs]\n",
    "    \n",
    "    svm = SVC(kernel=\"linear\").fit(x_train_mod, y_train)\n",
    "    print(f\"SVM Accuracy: {svm.score(x_test_mod, y_test)}\")\n",
    "    print(f\"\\tSVM Accuracy (Race = 1): {svm.score(x_test_mod[idx_race_1], y_test[idx_race_1])}\")\n",
    "    print(f\"\\tSVM Accuracy (Race = 0): {svm.score(x_test_mod[idx_race_0], y_test[idx_race_0])}\")\n",
    "    print(\"\\n\")"
   ]
  },
  {
   "cell_type": "code",
   "execution_count": null,
   "metadata": {},
   "outputs": [],
   "source": []
  }
 ],
 "metadata": {
  "kernelspec": {
   "display_name": "Python 3 (ipykernel)",
   "language": "python",
   "name": "python3"
  },
  "language_info": {
   "codemirror_mode": {
    "name": "ipython",
    "version": 3
   },
   "file_extension": ".py",
   "mimetype": "text/x-python",
   "name": "python",
   "nbconvert_exporter": "python",
   "pygments_lexer": "ipython3",
   "version": "3.7.9"
  }
 },
 "nbformat": 4,
 "nbformat_minor": 4
}
